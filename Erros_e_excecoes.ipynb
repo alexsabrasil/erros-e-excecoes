{
  "nbformat": 4,
  "nbformat_minor": 0,
  "metadata": {
    "colab": {
      "provenance": [],
      "authorship_tag": "ABX9TyNrYtjMp9ttu/ZgZBbIqUt0",
      "include_colab_link": true
    },
    "kernelspec": {
      "name": "python3",
      "display_name": "Python 3"
    },
    "language_info": {
      "name": "python"
    }
  },
  "cells": [
    {
      "cell_type": "markdown",
      "metadata": {
        "id": "view-in-github",
        "colab_type": "text"
      },
      "source": [
        "<a href=\"https://colab.research.google.com/github/alexsabrasil/erros-e-excecoes/blob/main/Erros_e_excecoes.ipynb\" target=\"_parent\"><img src=\"https://colab.research.google.com/assets/colab-badge.svg\" alt=\"Open In Colab\"/></a>"
      ]
    },
    {
      "cell_type": "code",
      "execution_count": null,
      "metadata": {
        "id": "P61QxUiv-JoQ"
      },
      "outputs": [],
      "source": []
    },
    {
      "cell_type": "markdown",
      "source": [
        "1. O programa abaixo deve calcular a média dos valores digitados\n",
        "pelo usuário.\n",
        "No entanto, ele não está funcionando bem. Você pode\n",
        "consertá-lo?"
      ],
      "metadata": {
        "id": "zW0EjPW5-W1S"
      }
    },
    {
      "cell_type": "code",
      "source": [
        "def calcular_media(valores):\n",
        "  tamanho = len(valores)\n",
        "  soma = 0.0\n",
        "  for valor in valores:\n",
        "      soma += valor\n",
        "  media = soma / tamanho if tamanho else 0\n",
        "  return media\n",
        "\n",
        "continuar = True\n",
        "valores = []\n",
        "while continuar:\n",
        "  valor = input('Digite um número para entrar na sua média ou \"ok\" para calcular o valor:')\n",
        "  if valor.lower() == 'ok':\n",
        "    continuar = False\n",
        "  else:\n",
        "    try:\n",
        "      valores.append(float(valor))\n",
        "    except ValueError:\n",
        "      print(\"Valor inválido. Por favor, insira um número ou 'ok'.\")\n",
        "\n",
        "media = calcular_media(valores)\n",
        "print('a média calculada para os valores {} foi de {}'.format(valores, media))\n",
        "\n",
        "\n",
        "\n",
        "\n"
      ],
      "metadata": {
        "colab": {
          "base_uri": "https://localhost:8080/"
        },
        "id": "OyMN1FvN-dVu",
        "outputId": "932448ba-4fda-4a58-f110-1e8546477a28"
      },
      "execution_count": 4,
      "outputs": [
        {
          "output_type": "stream",
          "name": "stdout",
          "text": [
            "Digite um número para entrar na sua média ou \"ok\" para calcular o valor:8\n",
            "Digite um número para entrar na sua média ou \"ok\" para calcular o valor:ok\n",
            "a média calculada para os valores [8.0] foi de 8.0\n"
          ]
        }
      ]
    },
    {
      "cell_type": "code",
      "source": [],
      "metadata": {
        "id": "Gs2ldh77-Z31"
      },
      "execution_count": null,
      "outputs": []
    }
  ]
}